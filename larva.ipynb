{
  "cells": [
    {
      "cell_type": "markdown",
      "metadata": {
        "id": "view-in-github",
        "colab_type": "text"
      },
      "source": [
        "<a href=\"https://colab.research.google.com/github/uni-bar/computational-neuro/blob/main/larva.ipynb\" target=\"_parent\"><img src=\"https://colab.research.google.com/assets/colab-badge.svg\" alt=\"Open In Colab\"/></a>"
      ]
    },
    {
      "cell_type": "code",
      "execution_count": 1,
      "metadata": {
        "id": "Hb-0BbMU8wfG"
      },
      "outputs": [],
      "source": [
        "from IPython.display import clear_output as clear"
      ]
    },
    {
      "cell_type": "markdown",
      "source": [
        "#### prerequisite"
      ],
      "metadata": {
        "id": "ppEKR2QsHrKE"
      }
    },
    {
      "cell_type": "code",
      "source": [
        "import os\n",
        "import requests\n",
        "import random\n",
        "\n",
        "# Constants\n",
        "AMOUNT = 50\n",
        "REPO_OWNER = \"uni-bar\"\n",
        "REPO_NAME = \"computational-neuro\"\n",
        "BRANCH = \"main\"\n",
        "FOLDERS = [\"larva\", \"no_larva\"]\n",
        "BASE_RAW_URL = \"https://raw.githubusercontent.com/{}/{}/{}/dataset/{}/{}\"\n",
        "\n",
        "# Create directories to save images\n",
        "os.makedirs(\"dataset/larva\", exist_ok=True)\n",
        "os.makedirs(\"dataset/no_larva\", exist_ok=True)\n",
        "\n",
        "def get_image_list(folder):\n",
        "    \"\"\"Fetch the list of images in a folder from the GitHub repository.\"\"\"\n",
        "    url = f\"https://github.com/{REPO_OWNER}/{REPO_NAME}/tree/{BRANCH}/dataset/{folder}\"\n",
        "    print(f\"Fetching image list from {url}\")\n",
        "    response = requests.get(url)\n",
        "    if response.status_code == 200:\n",
        "        from bs4 import BeautifulSoup\n",
        "        soup = BeautifulSoup(response.text, 'html.parser')\n",
        "        image_urls = []\n",
        "        for link in soup.find_all('a', href=True):\n",
        "            if any(link['href'].lower().endswith(ext) for ext in ('.png', '.jpg', '.jpeg')):\n",
        "                image_name = link['href'].split('/')[-1]\n",
        "                raw_url = BASE_RAW_URL.format(REPO_OWNER, REPO_NAME, BRANCH, folder, image_name)\n",
        "                image_urls.append(raw_url)\n",
        "        return image_urls\n",
        "    else:\n",
        "        print(f\"Error fetching {folder}: {response.status_code}\")\n",
        "        return []\n",
        "\n",
        "def download_images(image_urls, folder, amount=AMOUNT):\n",
        "    \"\"\"Download a specified number of images from the given list.\"\"\"\n",
        "    selected_images = random.sample(image_urls, min(amount, len(image_urls)))\n",
        "    for img_url in selected_images:\n",
        "        img_name = os.path.join(\"dataset\", folder, os.path.basename(img_url))\n",
        "        print(f\"Downloading {img_url} to {img_name}\")\n",
        "        img_response = requests.get(img_url)\n",
        "        if img_response.status_code == 200:\n",
        "            with open(img_name, 'wb') as img_file:\n",
        "                img_file.write(img_response.content)\n",
        "        else:\n",
        "            print(f\"Failed to download {img_url}: {img_response.status_code}\")\n",
        "\n",
        "# Load and download images from each folder\n",
        "for folder in FOLDERS:\n",
        "    images = get_image_list(folder)\n",
        "    if images:\n",
        "        print(f\"Downloading images from {folder}...\")\n",
        "        download_images(images, folder)\n",
        "\n",
        "print(\"Download complete.\")\n"
      ],
      "metadata": {
        "id": "JSxN60obHuwr",
        "outputId": "be8b2651-61b6-4d95-c535-af5b78db8f68",
        "colab": {
          "base_uri": "https://localhost:8080/"
        }
      },
      "execution_count": 15,
      "outputs": [
        {
          "output_type": "stream",
          "name": "stdout",
          "text": [
            "Fetching image list from https://github.com/uni-bar/computational-neuro/tree/main/dataset/larva\n",
            "Downloading images from larva...\n",
            "Downloading https://raw.githubusercontent.com/uni-bar/computational-neuro/main/dataset/larva/back_strike_frame2_2023-05-05_14-32-39-077.png to dataset/larva/back_strike_frame2_2023-05-05_14-32-39-077.png\n",
            "Downloading https://raw.githubusercontent.com/uni-bar/computational-neuro/main/dataset/larva/back_strike_frame2_2023-05-05_06-34-57-875.png to dataset/larva/back_strike_frame2_2023-05-05_06-34-57-875.png\n",
            "Downloading https://raw.githubusercontent.com/uni-bar/computational-neuro/main/dataset/larva/back_strike_frame2_2023-05-04_07-43-09-180.png to dataset/larva/back_strike_frame2_2023-05-04_07-43-09-180.png\n",
            "Downloading https://raw.githubusercontent.com/uni-bar/computational-neuro/main/dataset/larva/back_strike_frame2_2023-05-14_12-31-45-153.png to dataset/larva/back_strike_frame2_2023-05-14_12-31-45-153.png\n",
            "Downloading https://raw.githubusercontent.com/uni-bar/computational-neuro/main/dataset/larva/back_strike_frame2_2023-05-14_11-42-07-057.png to dataset/larva/back_strike_frame2_2023-05-14_11-42-07-057.png\n",
            "Downloading https://raw.githubusercontent.com/uni-bar/computational-neuro/main/dataset/larva/back_strike_frame2_2023-05-13_14-33-26-113.png to dataset/larva/back_strike_frame2_2023-05-13_14-33-26-113.png\n",
            "Downloading https://raw.githubusercontent.com/uni-bar/computational-neuro/main/dataset/larva/back_strike_frame2_2023-05-09_08-33-07-538.png to dataset/larva/back_strike_frame2_2023-05-09_08-33-07-538.png\n",
            "Downloading https://raw.githubusercontent.com/uni-bar/computational-neuro/main/dataset/larva/back_strike_frame2_2023-05-08_08-44-46-174.png to dataset/larva/back_strike_frame2_2023-05-08_08-44-46-174.png\n",
            "Downloading https://raw.githubusercontent.com/uni-bar/computational-neuro/main/dataset/larva/back_strike_frame2_2023-05-14_15-31-08-458.png to dataset/larva/back_strike_frame2_2023-05-14_15-31-08-458.png\n",
            "Downloading https://raw.githubusercontent.com/uni-bar/computational-neuro/main/dataset/larva/back_strike_frame2_2023-05-14_11-42-45-998.png to dataset/larva/back_strike_frame2_2023-05-14_11-42-45-998.png\n",
            "Downloading https://raw.githubusercontent.com/uni-bar/computational-neuro/main/dataset/larva/back_strike_frame2_2023-05-07_05-34-42-038.png to dataset/larva/back_strike_frame2_2023-05-07_05-34-42-038.png\n",
            "Downloading https://raw.githubusercontent.com/uni-bar/computational-neuro/main/dataset/larva/back_strike_frame2_2023-05-08_08-43-35-226.png to dataset/larva/back_strike_frame2_2023-05-08_08-43-35-226.png\n",
            "Downloading https://raw.githubusercontent.com/uni-bar/computational-neuro/main/dataset/larva/back_strike_frame2_2023-05-14_07-31-14-247.png to dataset/larva/back_strike_frame2_2023-05-14_07-31-14-247.png\n",
            "Downloading https://raw.githubusercontent.com/uni-bar/computational-neuro/main/dataset/larva/back_strike_frame2_2023-05-07_06-34-43-625.png to dataset/larva/back_strike_frame2_2023-05-07_06-34-43-625.png\n",
            "Downloading https://raw.githubusercontent.com/uni-bar/computational-neuro/main/dataset/larva/back_strike_frame2_2023-05-13_14-32-06-131.png to dataset/larva/back_strike_frame2_2023-05-13_14-32-06-131.png\n",
            "Downloading https://raw.githubusercontent.com/uni-bar/computational-neuro/main/dataset/larva/back_strike_frame2_2023-05-08_09-31-45-838.png to dataset/larva/back_strike_frame2_2023-05-08_09-31-45-838.png\n",
            "Downloading https://raw.githubusercontent.com/uni-bar/computational-neuro/main/dataset/larva/back_strike_frame2_2023-05-06_07-33-10-253.png to dataset/larva/back_strike_frame2_2023-05-06_07-33-10-253.png\n",
            "Downloading https://raw.githubusercontent.com/uni-bar/computational-neuro/main/dataset/larva/back_strike_frame2_2023-05-14_06-31-33-763.png to dataset/larva/back_strike_frame2_2023-05-14_06-31-33-763.png\n",
            "Downloading https://raw.githubusercontent.com/uni-bar/computational-neuro/main/dataset/larva/back_strike_frame2_2023-05-08_08-45-11-079.png to dataset/larva/back_strike_frame2_2023-05-08_08-45-11-079.png\n",
            "Downloading https://raw.githubusercontent.com/uni-bar/computational-neuro/main/dataset/larva/back_strike_frame2_2023-05-14_07-31-14-247.png to dataset/larva/back_strike_frame2_2023-05-14_07-31-14-247.png\n",
            "Downloading https://raw.githubusercontent.com/uni-bar/computational-neuro/main/dataset/larva/back_strike_frame2_2023-05-07_12-32-24-253.png to dataset/larva/back_strike_frame2_2023-05-07_12-32-24-253.png\n",
            "Downloading https://raw.githubusercontent.com/uni-bar/computational-neuro/main/dataset/larva/back_strike_frame2_2023-05-07_08-32-09-035.png to dataset/larva/back_strike_frame2_2023-05-07_08-32-09-035.png\n",
            "Downloading https://raw.githubusercontent.com/uni-bar/computational-neuro/main/dataset/larva/back_strike_frame2_2023-05-11_07-31-36-921.png to dataset/larva/back_strike_frame2_2023-05-11_07-31-36-921.png\n",
            "Downloading https://raw.githubusercontent.com/uni-bar/computational-neuro/main/dataset/larva/back_strike_frame2_2023-05-14_07-31-54-755.png to dataset/larva/back_strike_frame2_2023-05-14_07-31-54-755.png\n",
            "Downloading https://raw.githubusercontent.com/uni-bar/computational-neuro/main/dataset/larva/back_strike_frame2_2023-05-13_15-32-23-255.png to dataset/larva/back_strike_frame2_2023-05-13_15-32-23-255.png\n",
            "Downloading https://raw.githubusercontent.com/uni-bar/computational-neuro/main/dataset/larva/back_strike_frame2_2023-05-07_06-34-21-621.png to dataset/larva/back_strike_frame2_2023-05-07_06-34-21-621.png\n",
            "Downloading https://raw.githubusercontent.com/uni-bar/computational-neuro/main/dataset/larva/back_strike_frame2_2023-05-05_06-33-40-526.png to dataset/larva/back_strike_frame2_2023-05-05_06-33-40-526.png\n",
            "Downloading https://raw.githubusercontent.com/uni-bar/computational-neuro/main/dataset/larva/back_strike_frame2_2023-05-14_11-43-07-736.png to dataset/larva/back_strike_frame2_2023-05-14_11-43-07-736.png\n",
            "Downloading https://raw.githubusercontent.com/uni-bar/computational-neuro/main/dataset/larva/back_strike_frame2_2023-05-14_11-43-07-736.png to dataset/larva/back_strike_frame2_2023-05-14_11-43-07-736.png\n",
            "Downloading https://raw.githubusercontent.com/uni-bar/computational-neuro/main/dataset/larva/back_strike_frame2_2023-05-14_06-32-14-472.png to dataset/larva/back_strike_frame2_2023-05-14_06-32-14-472.png\n",
            "Downloading https://raw.githubusercontent.com/uni-bar/computational-neuro/main/dataset/larva/back_strike_frame2_2023-05-14_14-30-48-867.png to dataset/larva/back_strike_frame2_2023-05-14_14-30-48-867.png\n",
            "Downloading https://raw.githubusercontent.com/uni-bar/computational-neuro/main/dataset/larva/back_strike_frame2_2023-05-14_11-31-37-866.png to dataset/larva/back_strike_frame2_2023-05-14_11-31-37-866.png\n",
            "Downloading https://raw.githubusercontent.com/uni-bar/computational-neuro/main/dataset/larva/back_strike_frame2_2023-05-05_06-32-19-343.png to dataset/larva/back_strike_frame2_2023-05-05_06-32-19-343.png\n",
            "Downloading https://raw.githubusercontent.com/uni-bar/computational-neuro/main/dataset/larva/back_strike_frame2_2023-05-13_14-31-46-493.png to dataset/larva/back_strike_frame2_2023-05-13_14-31-46-493.png\n",
            "Downloading https://raw.githubusercontent.com/uni-bar/computational-neuro/main/dataset/larva/back_strike_frame2_2023-05-14_07-32-16-892.png to dataset/larva/back_strike_frame2_2023-05-14_07-32-16-892.png\n",
            "Downloading https://raw.githubusercontent.com/uni-bar/computational-neuro/main/dataset/larva/back_strike_frame2_2023-05-14_05-31-53-680.png to dataset/larva/back_strike_frame2_2023-05-14_05-31-53-680.png\n",
            "Downloading https://raw.githubusercontent.com/uni-bar/computational-neuro/main/dataset/larva/back_strike_frame2_2023-05-14_11-42-26-527.png to dataset/larva/back_strike_frame2_2023-05-14_11-42-26-527.png\n",
            "Downloading https://raw.githubusercontent.com/uni-bar/computational-neuro/main/dataset/larva/back_strike_frame2_2023-05-13_14-32-06-131.png to dataset/larva/back_strike_frame2_2023-05-13_14-32-06-131.png\n",
            "Downloading https://raw.githubusercontent.com/uni-bar/computational-neuro/main/dataset/larva/back_strike_frame2_2023-05-14_15-31-51-500.png to dataset/larva/back_strike_frame2_2023-05-14_15-31-51-500.png\n",
            "Downloading https://raw.githubusercontent.com/uni-bar/computational-neuro/main/dataset/larva/back_strike_frame2_2023-05-14_08-31-13-667.png to dataset/larva/back_strike_frame2_2023-05-14_08-31-13-667.png\n",
            "Downloading https://raw.githubusercontent.com/uni-bar/computational-neuro/main/dataset/larva/back_strike_frame1_2023-10-01_07-32-09-341.png to dataset/larva/back_strike_frame1_2023-10-01_07-32-09-341.png\n",
            "Downloading https://raw.githubusercontent.com/uni-bar/computational-neuro/main/dataset/larva/back_strike_frame2_2023-05-07_08-31-46-064.png to dataset/larva/back_strike_frame2_2023-05-07_08-31-46-064.png\n",
            "Downloading https://raw.githubusercontent.com/uni-bar/computational-neuro/main/dataset/larva/back_strike_frame2_2023-05-14_07-31-54-755.png to dataset/larva/back_strike_frame2_2023-05-14_07-31-54-755.png\n",
            "Downloading https://raw.githubusercontent.com/uni-bar/computational-neuro/main/dataset/larva/back_strike_frame2_2023-05-04_12-32-02-875.png to dataset/larva/back_strike_frame2_2023-05-04_12-32-02-875.png\n",
            "Downloading https://raw.githubusercontent.com/uni-bar/computational-neuro/main/dataset/larva/back_strike_frame2_2023-05-13_14-33-26-113.png to dataset/larva/back_strike_frame2_2023-05-13_14-33-26-113.png\n",
            "Downloading https://raw.githubusercontent.com/uni-bar/computational-neuro/main/dataset/larva/back_strike_frame2_2023-05-14_06-31-33-763.png to dataset/larva/back_strike_frame2_2023-05-14_06-31-33-763.png\n",
            "Downloading https://raw.githubusercontent.com/uni-bar/computational-neuro/main/dataset/larva/back_strike_frame2_2023-05-07_07-31-47-244.png to dataset/larva/back_strike_frame2_2023-05-07_07-31-47-244.png\n",
            "Downloading https://raw.githubusercontent.com/uni-bar/computational-neuro/main/dataset/larva/back_strike_frame2_2023-05-07_06-34-21-621.png to dataset/larva/back_strike_frame2_2023-05-07_06-34-21-621.png\n",
            "Downloading https://raw.githubusercontent.com/uni-bar/computational-neuro/main/dataset/larva/back_strike_frame2_2023-05-14_05-31-33-776.png to dataset/larva/back_strike_frame2_2023-05-14_05-31-33-776.png\n",
            "Downloading https://raw.githubusercontent.com/uni-bar/computational-neuro/main/dataset/larva/back_strike_frame2_2023-05-14_11-32-20-375.png to dataset/larva/back_strike_frame2_2023-05-14_11-32-20-375.png\n",
            "Fetching image list from https://github.com/uni-bar/computational-neuro/tree/main/dataset/no_larva\n",
            "Downloading images from no_larva...\n",
            "Downloading https://raw.githubusercontent.com/uni-bar/computational-neuro/main/dataset/no_larva/back_strike_frame1_2024-02-21_10-31-54-905.png to dataset/no_larva/back_strike_frame1_2024-02-21_10-31-54-905.png\n",
            "Downloading https://raw.githubusercontent.com/uni-bar/computational-neuro/main/dataset/no_larva/back_strike_frame1_2024-02-05_06-32-51-012.png to dataset/no_larva/back_strike_frame1_2024-02-05_06-32-51-012.png\n",
            "Downloading https://raw.githubusercontent.com/uni-bar/computational-neuro/main/dataset/no_larva/back_strike_frame1_2024-01-02_08-35-20-043.png to dataset/no_larva/back_strike_frame1_2024-01-02_08-35-20-043.png\n",
            "Downloading https://raw.githubusercontent.com/uni-bar/computational-neuro/main/dataset/no_larva/back_strike_frame1_2024-02-14_08-31-02-060.png to dataset/no_larva/back_strike_frame1_2024-02-14_08-31-02-060.png\n",
            "Downloading https://raw.githubusercontent.com/uni-bar/computational-neuro/main/dataset/no_larva/front_strike_frame1_2023-05-07_07-31-43-755.png to dataset/no_larva/front_strike_frame1_2023-05-07_07-31-43-755.png\n",
            "Downloading https://raw.githubusercontent.com/uni-bar/computational-neuro/main/dataset/no_larva/back_before_hit_2023-06-16_15-45-18-339.png to dataset/no_larva/back_before_hit_2023-06-16_15-45-18-339.png\n",
            "Downloading https://raw.githubusercontent.com/uni-bar/computational-neuro/main/dataset/no_larva/front_strike_frame1_2023-06-20_07-31-38-301.png to dataset/no_larva/front_strike_frame1_2023-06-20_07-31-38-301.png\n",
            "Downloading https://raw.githubusercontent.com/uni-bar/computational-neuro/main/dataset/no_larva/back_strike_frame1_2024-02-08_06-32-17-191.png to dataset/no_larva/back_strike_frame1_2024-02-08_06-32-17-191.png\n",
            "Downloading https://raw.githubusercontent.com/uni-bar/computational-neuro/main/dataset/no_larva/front_before_hit_2023-05-10_12-30-38-424.png to dataset/no_larva/front_before_hit_2023-05-10_12-30-38-424.png\n",
            "Downloading https://raw.githubusercontent.com/uni-bar/computational-neuro/main/dataset/no_larva/back_before_hit_2023-05-11_09-30-14-575.png to dataset/no_larva/back_before_hit_2023-05-11_09-30-14-575.png\n",
            "Downloading https://raw.githubusercontent.com/uni-bar/computational-neuro/main/dataset/no_larva/back_strike_frame1_2025-01-18_13-04-16-812.png to dataset/no_larva/back_strike_frame1_2025-01-18_13-04-16-812.png\n",
            "Downloading https://raw.githubusercontent.com/uni-bar/computational-neuro/main/dataset/no_larva/front_strike_frame1_2023-05-24_13-31-18-190.png to dataset/no_larva/front_strike_frame1_2023-05-24_13-31-18-190.png\n",
            "Downloading https://raw.githubusercontent.com/uni-bar/computational-neuro/main/dataset/no_larva/front_strike_frame1_2023-05-24_13-31-18-190.png to dataset/no_larva/front_strike_frame1_2023-05-24_13-31-18-190.png\n",
            "Downloading https://raw.githubusercontent.com/uni-bar/computational-neuro/main/dataset/no_larva/front_before_hit_2024-12-24_15-30-45-267.png to dataset/no_larva/front_before_hit_2024-12-24_15-30-45-267.png\n",
            "Downloading https://raw.githubusercontent.com/uni-bar/computational-neuro/main/dataset/no_larva/front_strike_frame1_2023-09-12_05-31-34-153.png to dataset/no_larva/front_strike_frame1_2023-09-12_05-31-34-153.png\n",
            "Downloading https://raw.githubusercontent.com/uni-bar/computational-neuro/main/dataset/no_larva/back_strike_frame1_2023-05-13_14-33-02-842.png to dataset/no_larva/back_strike_frame1_2023-05-13_14-33-02-842.png\n",
            "Downloading https://raw.githubusercontent.com/uni-bar/computational-neuro/main/dataset/no_larva/front_strike_frame1_2023-06-26_11-32-14-495.png to dataset/no_larva/front_strike_frame1_2023-06-26_11-32-14-495.png\n",
            "Downloading https://raw.githubusercontent.com/uni-bar/computational-neuro/main/dataset/no_larva/back_strike_frame1_2025-01-21_14-01-35-594.png to dataset/no_larva/back_strike_frame1_2025-01-21_14-01-35-594.png\n",
            "Downloading https://raw.githubusercontent.com/uni-bar/computational-neuro/main/dataset/no_larva/front_strike_frame1_2023-05-22_07-31-49-690.png to dataset/no_larva/front_strike_frame1_2023-05-22_07-31-49-690.png\n",
            "Downloading https://raw.githubusercontent.com/uni-bar/computational-neuro/main/dataset/no_larva/front_strike_frame1_2023-06-20_07-31-38-301.png to dataset/no_larva/front_strike_frame1_2023-06-20_07-31-38-301.png\n",
            "Downloading https://raw.githubusercontent.com/uni-bar/computational-neuro/main/dataset/no_larva/back_before_hit_2024-12-27_14-00-24-415.png to dataset/no_larva/back_before_hit_2024-12-27_14-00-24-415.png\n",
            "Downloading https://raw.githubusercontent.com/uni-bar/computational-neuro/main/dataset/no_larva/back_strike_frame1_2023-06-18_09-33-22-042.png to dataset/no_larva/back_strike_frame1_2023-06-18_09-33-22-042.png\n",
            "Downloading https://raw.githubusercontent.com/uni-bar/computational-neuro/main/dataset/no_larva/front_before_hit_2024-09-08_14-00-28-580.png to dataset/no_larva/front_before_hit_2024-09-08_14-00-28-580.png\n",
            "Downloading https://raw.githubusercontent.com/uni-bar/computational-neuro/main/dataset/no_larva/back_strike_frame1_2024-02-14_08-31-02-060.png to dataset/no_larva/back_strike_frame1_2024-02-14_08-31-02-060.png\n",
            "Downloading https://raw.githubusercontent.com/uni-bar/computational-neuro/main/dataset/no_larva/front_before_hit_2023-05-11_08-30-14-646.png to dataset/no_larva/front_before_hit_2023-05-11_08-30-14-646.png\n",
            "Downloading https://raw.githubusercontent.com/uni-bar/computational-neuro/main/dataset/no_larva/front_before_hit_2025-01-09_11-00-41-994.png to dataset/no_larva/front_before_hit_2025-01-09_11-00-41-994.png\n",
            "Downloading https://raw.githubusercontent.com/uni-bar/computational-neuro/main/dataset/no_larva/back_strike_frame1_2023-06-20_13-31-39-908.png to dataset/no_larva/back_strike_frame1_2023-06-20_13-31-39-908.png\n",
            "Downloading https://raw.githubusercontent.com/uni-bar/computational-neuro/main/dataset/no_larva/front_before_hit_2025-01-09_11-00-41-994.png to dataset/no_larva/front_before_hit_2025-01-09_11-00-41-994.png\n",
            "Downloading https://raw.githubusercontent.com/uni-bar/computational-neuro/main/dataset/no_larva/back_strike_frame1_2023-05-14_08-31-50-974.png to dataset/no_larva/back_strike_frame1_2023-05-14_08-31-50-974.png\n",
            "Downloading https://raw.githubusercontent.com/uni-bar/computational-neuro/main/dataset/no_larva/back_strike_frame1_2024-01-03_06-35-05-555.png to dataset/no_larva/back_strike_frame1_2024-01-03_06-35-05-555.png\n",
            "Downloading https://raw.githubusercontent.com/uni-bar/computational-neuro/main/dataset/no_larva/back_strike_frame1_2023-09-11_13-32-32-877.png to dataset/no_larva/back_strike_frame1_2023-09-11_13-32-32-877.png\n",
            "Downloading https://raw.githubusercontent.com/uni-bar/computational-neuro/main/dataset/no_larva/back_strike_frame1_2025-01-20_14-08-24-943.png to dataset/no_larva/back_strike_frame1_2025-01-20_14-08-24-943.png\n",
            "Downloading https://raw.githubusercontent.com/uni-bar/computational-neuro/main/dataset/no_larva/front_strike_frame1_2023-07-19_10-34-09-956.png to dataset/no_larva/front_strike_frame1_2023-07-19_10-34-09-956.png\n",
            "Downloading https://raw.githubusercontent.com/uni-bar/computational-neuro/main/dataset/no_larva/back_strike_frame1_2024-01-26_08-27-19-483.png to dataset/no_larva/back_strike_frame1_2024-01-26_08-27-19-483.png\n",
            "Downloading https://raw.githubusercontent.com/uni-bar/computational-neuro/main/dataset/no_larva/front_strike_frame1_2023-06-08_06-31-25-781.png to dataset/no_larva/front_strike_frame1_2023-06-08_06-31-25-781.png\n",
            "Downloading https://raw.githubusercontent.com/uni-bar/computational-neuro/main/dataset/no_larva/back_before_hit_2023-06-01_15-30-09-329.png to dataset/no_larva/back_before_hit_2023-06-01_15-30-09-329.png\n",
            "Downloading https://raw.githubusercontent.com/uni-bar/computational-neuro/main/dataset/no_larva/front_strike_frame1_2023-05-22_07-31-49-690.png to dataset/no_larva/front_strike_frame1_2023-05-22_07-31-49-690.png\n",
            "Downloading https://raw.githubusercontent.com/uni-bar/computational-neuro/main/dataset/no_larva/front_strike_frame1_2023-05-28_09-31-28-542.png to dataset/no_larva/front_strike_frame1_2023-05-28_09-31-28-542.png\n",
            "Downloading https://raw.githubusercontent.com/uni-bar/computational-neuro/main/dataset/no_larva/back_strike_frame1_2025-01-18_13-04-16-812.png to dataset/no_larva/back_strike_frame1_2025-01-18_13-04-16-812.png\n",
            "Downloading https://raw.githubusercontent.com/uni-bar/computational-neuro/main/dataset/no_larva/back_strike_frame1_2023-06-18_09-33-22-042.png to dataset/no_larva/back_strike_frame1_2023-06-18_09-33-22-042.png\n",
            "Downloading https://raw.githubusercontent.com/uni-bar/computational-neuro/main/dataset/no_larva/front_strike_frame1_2023-05-18_09-24-12-805.png to dataset/no_larva/front_strike_frame1_2023-05-18_09-24-12-805.png\n",
            "Downloading https://raw.githubusercontent.com/uni-bar/computational-neuro/main/dataset/no_larva/front_strike_frame1_2023-06-01_06-32-11-218.png to dataset/no_larva/front_strike_frame1_2023-06-01_06-32-11-218.png\n",
            "Downloading https://raw.githubusercontent.com/uni-bar/computational-neuro/main/dataset/no_larva/back_before_hit_2023-05-08_12-30-42-499.png to dataset/no_larva/back_before_hit_2023-05-08_12-30-42-499.png\n",
            "Downloading https://raw.githubusercontent.com/uni-bar/computational-neuro/main/dataset/no_larva/front_before_hit_2024-01-13_14-30-47-826.png to dataset/no_larva/front_before_hit_2024-01-13_14-30-47-826.png\n",
            "Downloading https://raw.githubusercontent.com/uni-bar/computational-neuro/main/dataset/no_larva/front_before_hit_2023-07-03_07-30-28-018.png to dataset/no_larva/front_before_hit_2023-07-03_07-30-28-018.png\n",
            "Downloading https://raw.githubusercontent.com/uni-bar/computational-neuro/main/dataset/no_larva/back_strike_frame1_2024-01-03_06-35-05-555.png to dataset/no_larva/back_strike_frame1_2024-01-03_06-35-05-555.png\n",
            "Downloading https://raw.githubusercontent.com/uni-bar/computational-neuro/main/dataset/no_larva/front_before_hit_2023-06-09_14-30-33-427.png to dataset/no_larva/front_before_hit_2023-06-09_14-30-33-427.png\n",
            "Downloading https://raw.githubusercontent.com/uni-bar/computational-neuro/main/dataset/no_larva/back_before_hit_2023-07-24_12-30-29-232.png to dataset/no_larva/back_before_hit_2023-07-24_12-30-29-232.png\n",
            "Downloading https://raw.githubusercontent.com/uni-bar/computational-neuro/main/dataset/no_larva/back_before_hit_2023-06-19_13-30-06-356.png to dataset/no_larva/back_before_hit_2023-06-19_13-30-06-356.png\n",
            "Downloading https://raw.githubusercontent.com/uni-bar/computational-neuro/main/dataset/no_larva/back_before_hit_2023-07-14_15-30-53-645.png to dataset/no_larva/back_before_hit_2023-07-14_15-30-53-645.png\n",
            "Download complete.\n"
          ]
        }
      ]
    },
    {
      "cell_type": "markdown",
      "metadata": {
        "id": "a8DCh-ie-nqs"
      },
      "source": [
        "\n",
        "#### Load the larva/no larva images"
      ]
    },
    {
      "cell_type": "code",
      "execution_count": null,
      "metadata": {
        "id": "l_PVbxN7-nqu"
      },
      "outputs": [],
      "source": [
        "!pip install datasets torch torchvision tqdm matplotlib\n",
        "clear()\n"
      ]
    },
    {
      "cell_type": "code",
      "execution_count": 7,
      "metadata": {
        "id": "_6dutqcb-nqv"
      },
      "outputs": [],
      "source": [
        "from datasets import load_dataset\n",
        "from collections import Counter\n",
        "import pandas as pd\n",
        "\n"
      ]
    },
    {
      "cell_type": "code",
      "source": [
        "import torch.nn as nn\n",
        "import torch.nn.functional as F\n",
        "# from torchvision import transforms\n",
        "from torchvision.datasets import ImageFolder\n",
        "from torchvision.transforms import Compose, ToTensor, Normalize, Resize, Lambda, Grayscale, ToPILImage\n"
      ],
      "metadata": {
        "id": "rvDlznU1AIP0"
      },
      "execution_count": 8,
      "outputs": []
    },
    {
      "cell_type": "code",
      "execution_count": null,
      "metadata": {
        "id": "lmUNojNF-nqv"
      },
      "outputs": [],
      "source": [
        "image_size = 512 # TODO:) move to config\n",
        "\n",
        "\n",
        "def get_transform(image_size):\n",
        "  return Compose([\n",
        "      Resize((image_size, image_size)),\n",
        "      ToTensor(),\n",
        "      Normalize(mean=[0.5], std=[0.5]),\n",
        "  ])\n",
        "\n",
        "def preprocess(sample):\n",
        "  sample['image'] = get_transform(image_size)(sample['image'])\n",
        "  return sample\n",
        "\n",
        "# Load the dataset from the Hub.\n",
        "def load_larva(is_hugging=False):\n",
        "    if is_hugging:\n",
        "        dataset = load_dataset(\"Bareket/larva\")\n",
        "        dataset = dataset.map(preprocess, remove_columns=[\"image\"])\n",
        "\n",
        "    else:\n",
        "        dataset_path = \"https://github.com/uni-bar/computational-neuro/tree/main/dataset/larva\" # TODO:) move to config\n",
        "        dataset = ImageFolder(dataset_path, transform=get_transform(image_size))\n",
        "\n",
        "\n",
        "    # Inspect the dataset.\n",
        "    print(dataset)\n",
        "    print(\"First sample:\", dataset[0])\n",
        "\n"
      ]
    },
    {
      "cell_type": "markdown",
      "metadata": {
        "id": "sfJDN3Yz-nqv"
      },
      "source": [
        "#### display the feature the data"
      ]
    },
    {
      "cell_type": "code",
      "execution_count": null,
      "metadata": {
        "id": "8wZZ2EGA-nqw"
      },
      "outputs": [],
      "source": [
        "print(\"Dataset Features:\")\n",
        "print(dataset.features)\n",
        "print(\"\\n\")\n",
        "\n",
        "\n",
        "# Print the label names (folder names).\n",
        "\n",
        "if \"label\" in dataset.features:\n",
        "    label_names = dataset.features[\"label\"].names\n",
        "    print(\"Label names:\", label_names)\n",
        "else:\n",
        "    print(\"No 'label' field found in the dataset features.\")\n",
        "\n"
      ]
    },
    {
      "cell_type": "markdown",
      "metadata": {
        "id": "1Cp7dK-Y-nqw"
      },
      "source": [
        "#### count the number of images at each label\n"
      ]
    },
    {
      "cell_type": "code",
      "execution_count": null,
      "metadata": {
        "id": "5rdaROB--nqw"
      },
      "outputs": [],
      "source": [
        "labels = dataset[\"label\"] # This is a list of integer labels.\n",
        "label_counts = Counter(labels)\n",
        "print(\"\\nLabel counts (using Counter):\")\n",
        "\n",
        "for label_id, count in label_counts.items():\n",
        "\n",
        "    # Convert the numeric label to its corresponding folder name.\n",
        "    folder_name = label_names[label_id] if \"label\" in dataset.features else str(label_id)\n",
        "    print(f\"{folder_name}: {count}\")\n",
        "\n"
      ]
    }
  ],
  "metadata": {
    "colab": {
      "provenance": [],
      "include_colab_link": true
    },
    "kernelspec": {
      "display_name": "Python 3",
      "language": "python",
      "name": "python3"
    },
    "language_info": {
      "codemirror_mode": {
        "name": "ipython",
        "version": 3
      },
      "file_extension": ".py",
      "mimetype": "text/x-python",
      "name": "python",
      "nbconvert_exporter": "python",
      "pygments_lexer": "ipython3",
      "version": "3.12.1"
    }
  },
  "nbformat": 4,
  "nbformat_minor": 0
}